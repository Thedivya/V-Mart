{
 "cells": [
  {
   "cell_type": "code",
   "execution_count": null,
   "metadata": {},
   "outputs": [],
   "source": [
    "import pandas as pd\n",
    "import numpy as np\n",
    "import matplotlib.pyplot as plt\n",
    "import seaborn as sns\n",
    "import os\n"
   ]
  },
  {
   "cell_type": "code",
   "execution_count": null,
   "metadata": {},
   "outputs": [],
   "source": [
    "data = pd.read_excel('D:/Data Science/Minor02.xlsx')"
   ]
  },
  {
   "cell_type": "code",
   "execution_count": null,
   "metadata": {},
   "outputs": [],
   "source": [
    "item_type = list(data['Item_Type'].unique())\n",
    "\n",
    "bg = data.query('Item_Type == \"Baking Goods\"')\n",
    "bg01 = list(bg['Item_Name'].unique())\n",
    "\n",
    "di = data.query('Item_Type == \"Dairy\"')\n",
    "di01 = list(di['Item_Name'].unique())\n",
    "\n",
    "fv = data.query('Item_Type == \"Fruits and Vegetables\"')\n",
    "fv01 = list(fv['Item_Name'].unique())\n",
    "\n",
    "hd = data.query('Item_Type == \"Hard Drinks\"')\n",
    "hd01 = list(hd['Item_Name'].unique())\n",
    "\n",
    "hh = data.query('Item_Type == \"Health and Hygiene\"')\n",
    "hh01 = list(hh['Item_Name'].unique())\n",
    "\n",
    "hs = data.query('Item_Type == \"Household\"')\n",
    "hs01 = list(hs['Item_Name'].unique())\n",
    "\n",
    "sd = data.query('Item_Type == \"Soft Drinks\"')\n",
    "sd01 = list(sd['Item_Name'].unique())\n"
   ]
  },
  {
   "cell_type": "code",
   "execution_count": null,
   "metadata": {},
   "outputs": [],
   "source": [
    "import os\n",
    "from tkinter import *\n",
    "\n",
    "\n",
    "root = Tk()\n",
    "\n",
    "root.geometry(\"1384x1000\")\n",
    "\n",
    "root.title(\"Grocery Store\")\n",
    "\n",
    "root.configure(bg=\"#ffff99\")\n",
    "\n",
    "\n",
    "\n",
    "\n",
    "\n",
    "#create a listbox for item type \n",
    "\n",
    "label = Label(root, text='Item Type:-').place(x= 658, y= 0)\n",
    "listbox = Listbox(root, height=7, width=20, selectmode=\"EXTENDED\")\n",
    "listbox_bg = Listbox(root, height=10, width=20)\n",
    "listbox_di = Listbox(root, height=10, width=20)\n",
    "listbox_fv = Listbox(root, height=10, width=20)\n",
    "listbox_hd = Listbox(root, height=10, width=20)\n",
    "listbox_hh = Listbox(root, height=10, width=20)\n",
    "listbox_hs = Listbox(root, height=10, width=20)\n",
    "listbox_sd = Listbox(root, height=10, width=20)\n",
    "label10 = Label(root, text='Selected Items:-').place(x= 150, y= 530)\n",
    "listbox_selected = Listbox(root, height=20, width=25)\n",
    "\n",
    "\n",
    "\n",
    "for item in item_type:\n",
    "    listbox.insert(END, item)\n",
    "    listbox.place(x=625, y=20,)\n",
    "\n",
    "\n",
    "\n",
    "def selected_type():\n",
    "    for i in listbox.curselection():\n",
    "        print(listbox.get(i))\n",
    "    \n",
    "    def selected_baking():\n",
    "        for i in listbox_bg.curselection():\n",
    "            print(listbox_bg.get(i))\n",
    "            listbox_selected.insert(END, listbox_bg.get(i))\n",
    "    listbox_bg.bind('<Return>', lambda event: selected_baking())\n",
    "    \n",
    "\n",
    "    def selected_dairy():\n",
    "        for i in listbox_di.curselection():\n",
    "            print(listbox_di.get(i))\n",
    "            listbox_selected.insert(END, listbox_di.get(i))\n",
    "    listbox_di.bind('<Return>', lambda event: selected_dairy())\n",
    "    \n",
    "    def selected_fruits():\n",
    "        for i in listbox_fv.curselection():\n",
    "            print(listbox_fv.get(i))\n",
    "            listbox_selected.insert(END, listbox_fv.get(i))\n",
    "    listbox_fv.bind('<Return>', lambda event: selected_fruits())\n",
    "    \n",
    "    def selected_hard_drinks():\n",
    "        for i in listbox_hd.curselection():\n",
    "            print(listbox_hd.get(i))\n",
    "            listbox_selected.insert(END, listbox_hd.get(i))\n",
    "    listbox_hd.bind('<Return>', lambda event: selected_hard_drinks())\n",
    "    \n",
    "    def selected_health_hygiene():\n",
    "        for i in listbox_hh.curselection():\n",
    "            print(listbox_hh.get(i))\n",
    "            listbox_selected.insert(END, listbox_hh.get(i))\n",
    "    listbox_hh.bind('<Return>', lambda event: selected_health_hygiene())\n",
    "\n",
    "    def selected_household():\n",
    "        for i in listbox_hs.curselection():\n",
    "            print(listbox_hs.get(i))\n",
    "            listbox_selected.insert(END, listbox_hs.get(i))\n",
    "    listbox_hs.bind('<Return>', lambda event: selected_household())\n",
    "\n",
    "    def selected_soft_drinks():\n",
    "        for i in listbox_sd.curselection():\n",
    "            print(listbox_sd.get(i))\n",
    "            listbox_selected.insert(END, listbox_sd.get(i))\n",
    "    listbox_sd.bind('<Return>', lambda event: selected_soft_drinks())\n",
    "\n",
    "        \n",
    "    if listbox.get(i) == item_type[0]:\n",
    "        label1 = Label(root, text='Baking Goods List:-').place(x= 0, y= 255)\n",
    "        for baking in bg01:\n",
    "            listbox_bg.insert(END, baking)\n",
    "            listbox_bg.place(x=0, y=275)\n",
    "                \n",
    "    elif listbox.get(i) == item_type[1]:\n",
    "        label2 = Label(root, text='Dairy List:-').place(x= 200, y= 255)\n",
    "        for dairy in di01:\n",
    "            listbox_di.insert(END, dairy)\n",
    "            listbox_di.place(x=200, y=275)\n",
    "    elif listbox.get(i) == item_type[2]:\n",
    "        label3 = Label(root, text='Frozen Vegetables List:-').place(x= 400, y= 255)\n",
    "        for fruits in fv01:\n",
    "            listbox_fv.insert(END, fruits)\n",
    "            listbox_fv.place(x=400, y=275)\n",
    "    elif listbox.get(i) == item_type[3]:\n",
    "        label4 = Label(root, text='Health and Beauty List:-').place(x= 600, y= 255)\n",
    "        for hard in hd01:\n",
    "            listbox_hd.insert(END, hard)\n",
    "            listbox_hd.place(x=600, y=275)\n",
    "    elif listbox.get(i) == item_type[4]:\n",
    "        label5 = Label(root, text='Health and Hygiene List:-').place(x= 800, y= 255)\n",
    "        for health in hh01:\n",
    "            listbox_hh.insert(END, health)\n",
    "            listbox_hh.place(x=800, y=275)\n",
    "    elif listbox.get(i) == item_type[5]:\n",
    "        label6 = Label(root, text='Household List:-').place(x= 1000, y= 255)\n",
    "        for household in hs01:\n",
    "            listbox_hs.insert(END, household)\n",
    "            listbox_hs.place(x=1000, y=275)\n",
    "    elif listbox.get(i) == item_type[6]:\n",
    "        label7 = Label(root, text='Soft Drinks List:-').place(x= 1200, y= 255)\n",
    "        for soft in sd01:\n",
    "            listbox_sd.insert(END, soft)\n",
    "            listbox_sd.place(x=1200, y=275)\n",
    "    else:\n",
    "        print('No item found')\n",
    "    \n",
    "    \n",
    "\n",
    "btn = Button(root, text='Print Selected', command=selected_type)\n",
    "btn.place(x=640, y=160)\n",
    "\n",
    "listbox_selected.place(x= 150, y= 550)\n",
    "\n",
    "\n",
    "def print_selected():\n",
    "    result = listbox_selected.get(0 , END)\n",
    "    #save the result in a file\n",
    "    with open('selected_items.txt', 'w') as f:\n",
    "        for item in result:\n",
    "            f.write(\"%s\" % item)\n",
    "            f.write(\"\\n\")\n",
    "    print(result)\n",
    "            \n",
    "def clear_list():\n",
    "    listbox_selected.delete(0, END)\n",
    "\n",
    "def clear_item():\n",
    "    listbox_selected.delete(ANCHOR)\n",
    "\n",
    "def close_window():\n",
    "    root.destroy()\n",
    "\n",
    "btn2 = Button(root, text='Print Selected Items', command= lambda: [print_selected()])\n",
    "btn2.place(x= 640, y= 465)\n",
    "\n",
    "btn3 = Button(root, text='Clear All', command= lambda: [clear_list()])\n",
    "btn3.place(x= 640, y= 500)\n",
    "\n",
    "btn4 = Button(root, text='Clear Item', command= lambda: [clear_item()])\n",
    "btn4.place(x= 640, y= 535)\n",
    "\n",
    "btn5 = Button(root, text='Close', command= lambda: [close_window()])\n",
    "btn5.place(x= 640, y= 570)\n",
    "\n",
    "root.mainloop()\n"
   ]
  },
  {
   "cell_type": "code",
   "execution_count": null,
   "metadata": {},
   "outputs": [],
   "source": [
    "# opening the file in read mode\n",
    "my_file = open(\"selected_items.txt\", \"r\")\n",
    "\n",
    "# reading the file\n",
    "data01 = my_file.read()\n",
    "\n",
    "# replacing end splitting the text \n",
    "# when newline ('\\n') is seen.\n",
    "data_into_list = data01.split(\"\\n\")\n",
    "print(data_into_list)\n",
    "c = data_into_list\n",
    "print(c)\n",
    "my_file.close()"
   ]
  },
  {
   "cell_type": "code",
   "execution_count": null,
   "metadata": {},
   "outputs": [],
   "source": [
    "data.info()"
   ]
  },
  {
   "cell_type": "code",
   "execution_count": null,
   "metadata": {},
   "outputs": [],
   "source": [
    "data['Item_Type'].value_counts()"
   ]
  },
  {
   "cell_type": "code",
   "execution_count": null,
   "metadata": {},
   "outputs": [],
   "source": [
    "data"
   ]
  },
  {
   "cell_type": "code",
   "execution_count": null,
   "metadata": {},
   "outputs": [],
   "source": [
    "items = pd.DataFrame(data, columns=['Item_Type', 'Item_Name', 'Item_Visibility', 'Item_MRP', 'Final_MRP'])\n",
    "items"
   ]
  },
  {
   "cell_type": "code",
   "execution_count": null,
   "metadata": {},
   "outputs": [],
   "source": [
    "a = 'Item_Identifier == [\"HD05\", \"HH02\", \"HH05\", \"HE05\", \"HE15\", \"HE09\"]'\n",
    "b = [\"HD05\", \"HH02\", \"HH05\", \"HE05\", \"HE15\", \"HE09\", \"\"]\n",
    "b"
   ]
  },
  {
   "cell_type": "code",
   "execution_count": null,
   "metadata": {},
   "outputs": [],
   "source": [
    "buy = data.query('Item_Name == @c')\n",
    "buy"
   ]
  },
  {
   "cell_type": "code",
   "execution_count": null,
   "metadata": {},
   "outputs": [],
   "source": [
    "tbuy = buy.groupby('Store_Id')['Final_MRP'].sum().sort_values()\n",
    "tbuy"
   ]
  },
  {
   "cell_type": "code",
   "execution_count": null,
   "metadata": {},
   "outputs": [],
   "source": [
    "#change background color of graph to yellow\n",
    "sns.set_style('darkgrid', {'axes.facecolor': 'white', 'figure.facecolor': 'white', 'figure.edgecolor': 'black', 'axes.edgecolor': 'black',})\n",
    "\n",
    "plt.figure(figsize=(10,5))\n",
    "plt.plot(tbuy, marker='o', linewidth=2, markersize=5, color='grey', label='Total Sales')\n",
    "plt.legend( loc='upper left', shadow=True)\n",
    "plt.title('Total Sales per Store')\n",
    "plt.xlabel('Store Id')\n",
    "plt.ylabel('Total Sales')\n",
    "plt.grid(color = 'green', linestyle = '--', linewidth = 0.5, which = 'both', zorder = 0, clip_on = False,)\n",
    "# show y-values on the line of plot\n",
    "for x,y in zip(tbuy.index, tbuy.values):\n",
    "    label = \"{:.2f}\".format(y)\n",
    "    # print(tbuy.values)\n",
    "    plt.annotate(label, (x,y), textcoords=\"offset points\", xytext=(0,10), ha='center', color='red', fontsize=10)\n",
    "    \n",
    "plt.show()\n"
   ]
  },
  {
   "cell_type": "code",
   "execution_count": null,
   "metadata": {},
   "outputs": [],
   "source": [
    "minimum = tbuy.idxmin()\n",
    "minimum"
   ]
  },
  {
   "cell_type": "code",
   "execution_count": null,
   "metadata": {},
   "outputs": [],
   "source": [
    "selected_store = data.query('Store_Id == @minimum')\n",
    "selected_store.sort_values('Off_Rupee', ascending=False)"
   ]
  },
  {
   "cell_type": "code",
   "execution_count": null,
   "metadata": {},
   "outputs": [],
   "source": [
    "var = (buy['Item_Type'].value_counts())/11\n",
    "var"
   ]
  },
  {
   "cell_type": "code",
   "execution_count": null,
   "metadata": {},
   "outputs": [],
   "source": [
    "max_occured = var.idxmax()\n",
    "max_occured"
   ]
  },
  {
   "cell_type": "code",
   "execution_count": null,
   "metadata": {},
   "outputs": [],
   "source": [
    "suggested_items = data.query('Item_Type == @max_occured')\n",
    "# suggested_items\n",
    "suggested_items_from_selected_store = suggested_items.query('Store_Id == @minimum')\n",
    "# suggested_items.sort_values('Off_Rupee', ascending=False)\n",
    "suggested_items_from_selected_store.sort_values('Off_Rupee', ascending=False)"
   ]
  },
  {
   "cell_type": "code",
   "execution_count": null,
   "metadata": {},
   "outputs": [],
   "source": [
    "suggested_items_from_selected_store_excluding_bought_items = suggested_items_from_selected_store.query('Item_Name != @c')\n",
    "suggested_items_from_selected_store_excluding_bought_items.sort_values('Off_Rupee', ascending=False)"
   ]
  },
  {
   "cell_type": "code",
   "execution_count": null,
   "metadata": {},
   "outputs": [],
   "source": []
  }
 ],
 "metadata": {
  "kernelspec": {
   "display_name": "Python 3.10.0 64-bit",
   "language": "python",
   "name": "python3"
  },
  "language_info": {
   "codemirror_mode": {
    "name": "ipython",
    "version": 3
   },
   "file_extension": ".py",
   "mimetype": "text/x-python",
   "name": "python",
   "nbconvert_exporter": "python",
   "pygments_lexer": "ipython3",
   "version": "3.10.0"
  },
  "vscode": {
   "interpreter": {
    "hash": "6e74c270a45399d825fbf5ebad94c8cd7fd2f9ee6bbb6df2ca19ec376cf35c02"
   }
  }
 },
 "nbformat": 4,
 "nbformat_minor": 2
}
